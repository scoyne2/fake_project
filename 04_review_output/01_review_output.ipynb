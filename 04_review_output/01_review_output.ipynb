{
 "cells": [
  {
   "cell_type": "code",
   "execution_count": 28,
   "metadata": {},
   "outputs": [],
   "source": [
    "import sagemaker\n",
    "import boto3\n",
    "from sagemaker import get_execution_role\n",
    "\n",
    "region = boto3.Session().region_name\n",
    "\n",
    "session = sagemaker.Session()\n",
    "bucket = session.default_bucket()\n",
    "prefix = \"sagemaker/autopilot-dm\"\n",
    "\n",
    "role = get_execution_role()\n",
    "\n",
    "sm = boto3.Session().client(service_name=\"sagemaker\", region_name=region)"
   ]
  },
  {
   "cell_type": "code",
   "execution_count": 29,
   "metadata": {},
   "outputs": [
    {
     "name": "stdout",
     "output_type": "stream",
     "text": [
      "no stored variable or alias timestamp_suffix\n",
      "no stored variable or alias auto_ml_job_name\n"
     ]
    }
   ],
   "source": [
    "%store -r timestamp_suffix\n",
    "%store -r auto_ml_job_name"
   ]
  },
  {
   "cell_type": "code",
   "execution_count": 30,
   "metadata": {},
   "outputs": [
    {
     "name": "stdout",
     "output_type": "stream",
     "text": [
      "\n",
      "\n",
      "CandidateName: automl-banking-29-01-15-35DMulf4-004-4f0f42cd\n",
      "FinalAutoMLJobObjectiveMetricName: validation:f1_binary\n",
      "FinalAutoMLJobObjectiveMetricValue: 0.6044800281524658\n",
      "Training Job can be found here: https://us-east-1.console.aws.amazon.com/sagemaker/home?region=us-east-1#/jobs/automl-banking-29-01-15-35DMulf4-004-4f0f42cd\n"
     ]
    }
   ],
   "source": [
    "best_candidate = sm.describe_auto_ml_job(AutoMLJobName=auto_ml_job_name)[\"BestCandidate\"]\n",
    "best_candidate_name = best_candidate[\"CandidateName\"]\n",
    "\n",
    "print(\"\\n\")\n",
    "print(\"CandidateName: \" + best_candidate_name)\n",
    "print(\n",
    "    \"FinalAutoMLJobObjectiveMetricName: \"\n",
    "    + best_candidate[\"FinalAutoMLJobObjectiveMetric\"][\"MetricName\"]\n",
    ")\n",
    "print(\n",
    "    \"FinalAutoMLJobObjectiveMetricValue: \"\n",
    "    + str(best_candidate[\"FinalAutoMLJobObjectiveMetric\"][\"Value\"])\n",
    ")\n",
    "\n",
    "print(\"Training Job can be found here: https://us-east-1.console.aws.amazon.com/sagemaker/home?region=us-east-1#/jobs/\" + best_candidate_name )"
   ]
  },
  {
   "cell_type": "code",
   "execution_count": 31,
   "metadata": {},
   "outputs": [
    {
     "name": "stdout",
     "output_type": "stream",
     "text": [
      "{\n",
      "  \"CandidateName\": \"automl-banking-29-01-15-35DMulf4-004-4f0f42cd\",\n",
      "  \"FinalAutoMLJobObjectiveMetric\": {\n",
      "    \"MetricName\": \"validation:f1_binary\",\n",
      "    \"Value\": 0.6044800281524658\n",
      "  },\n",
      "  \"ObjectiveStatus\": \"Succeeded\",\n",
      "  \"CandidateSteps\": [\n",
      "    {\n",
      "      \"CandidateStepType\": \"AWS::SageMaker::ProcessingJob\",\n",
      "      \"CandidateStepArn\": \"arn:aws:sagemaker:us-east-1:484897808608:processing-job/automl-banking-29-01-15-35-db-1-ed719d81a661448babe875c562d17ba\",\n",
      "      \"CandidateStepName\": \"automl-banking-29-01-15-35-db-1-ed719d81a661448babe875c562d17ba\"\n",
      "    },\n",
      "    {\n",
      "      \"CandidateStepType\": \"AWS::SageMaker::TrainingJob\",\n",
      "      \"CandidateStepArn\": \"arn:aws:sagemaker:us-east-1:484897808608:training-job/automl-banking-29-01-15-35-dpp0-1-a28e2be6a18646e99ccb1cd6f0c06\",\n",
      "      \"CandidateStepName\": \"automl-banking-29-01-15-35-dpp0-1-a28e2be6a18646e99ccb1cd6f0c06\"\n",
      "    },\n",
      "    {\n",
      "      \"CandidateStepType\": \"AWS::SageMaker::TransformJob\",\n",
      "      \"CandidateStepArn\": \"arn:aws:sagemaker:us-east-1:484897808608:transform-job/automl-banking-29-01-15-35-dpp0-csv-1-cd49f33747fa48ceb9c1cd040\",\n",
      "      \"CandidateStepName\": \"automl-banking-29-01-15-35-dpp0-csv-1-cd49f33747fa48ceb9c1cd040\"\n",
      "    },\n",
      "    {\n",
      "      \"CandidateStepType\": \"AWS::SageMaker::TrainingJob\",\n",
      "      \"CandidateStepArn\": \"arn:aws:sagemaker:us-east-1:484897808608:training-job/automl-banking-29-01-15-35dmulf4-004-4f0f42cd\",\n",
      "      \"CandidateStepName\": \"automl-banking-29-01-15-35DMulf4-004-4f0f42cd\"\n",
      "    }\n",
      "  ],\n",
      "  \"CandidateStatus\": \"Completed\",\n",
      "  \"InferenceContainers\": [\n",
      "    {\n",
      "      \"Image\": \"683313688378.dkr.ecr.us-east-1.amazonaws.com/sagemaker-sklearn-automl:2.5-1-cpu-py3\",\n",
      "      \"ModelDataUrl\": \"s3://sagemaker-us-east-1-484897808608/sagemaker/autopilot-dm/output/automl-banking-29-01-15-35/data-processor-models/automl-banking-29-01-15-35-dpp0-1-a28e2be6a18646e99ccb1cd6f0c06/output/model.tar.gz\",\n",
      "      \"Environment\": {\n",
      "        \"AUTOML_TRANSFORM_MODE\": \"feature-transform\",\n",
      "        \"SAGEMAKER_DEFAULT_INVOCATIONS_ACCEPT\": \"application/x-recordio-protobuf\",\n",
      "        \"SAGEMAKER_PROGRAM\": \"sagemaker_serve\",\n",
      "        \"SAGEMAKER_SUBMIT_DIRECTORY\": \"/opt/ml/model/code\"\n",
      "      }\n",
      "    },\n",
      "    {\n",
      "      \"Image\": \"683313688378.dkr.ecr.us-east-1.amazonaws.com/sagemaker-xgboost:1.3-1-cpu-py3\",\n",
      "      \"ModelDataUrl\": \"s3://sagemaker-us-east-1-484897808608/sagemaker/autopilot-dm/output/automl-banking-29-01-15-35/tuning/automl-ban-dpp0-xgb/automl-banking-29-01-15-35DMulf4-004-4f0f42cd/output/model.tar.gz\",\n",
      "      \"Environment\": {\n",
      "        \"MAX_CONTENT_LENGTH\": \"20971520\",\n",
      "        \"SAGEMAKER_DEFAULT_INVOCATIONS_ACCEPT\": \"text/csv\",\n",
      "        \"SAGEMAKER_INFERENCE_OUTPUT\": \"predicted_label\",\n",
      "        \"SAGEMAKER_INFERENCE_SUPPORTED\": \"predicted_label,probability,probabilities\"\n",
      "      }\n",
      "    },\n",
      "    {\n",
      "      \"Image\": \"683313688378.dkr.ecr.us-east-1.amazonaws.com/sagemaker-sklearn-automl:2.5-1-cpu-py3\",\n",
      "      \"ModelDataUrl\": \"s3://sagemaker-us-east-1-484897808608/sagemaker/autopilot-dm/output/automl-banking-29-01-15-35/data-processor-models/automl-banking-29-01-15-35-dpp0-1-a28e2be6a18646e99ccb1cd6f0c06/output/model.tar.gz\",\n",
      "      \"Environment\": {\n",
      "        \"AUTOML_TRANSFORM_MODE\": \"inverse-label-transform\",\n",
      "        \"SAGEMAKER_DEFAULT_INVOCATIONS_ACCEPT\": \"text/csv\",\n",
      "        \"SAGEMAKER_INFERENCE_INPUT\": \"predicted_label\",\n",
      "        \"SAGEMAKER_INFERENCE_OUTPUT\": \"predicted_label\",\n",
      "        \"SAGEMAKER_INFERENCE_SUPPORTED\": \"predicted_label,probability,labels,probabilities\",\n",
      "        \"SAGEMAKER_PROGRAM\": \"sagemaker_serve\",\n",
      "        \"SAGEMAKER_SUBMIT_DIRECTORY\": \"/opt/ml/model/code\"\n",
      "      }\n",
      "    }\n",
      "  ],\n",
      "  \"CreationTime\": \"2022-03-29 01:38:41+00:00\",\n",
      "  \"EndTime\": \"2022-03-29 01:41:07+00:00\",\n",
      "  \"LastModifiedTime\": \"2022-03-29 01:42:21.462000+00:00\"\n",
      "}\n"
     ]
    }
   ],
   "source": [
    "# All the details\n",
    "import json\n",
    "\n",
    "print(json.dumps(best_candidate, indent=2, default=str))\n"
   ]
  },
  {
   "cell_type": "code",
   "execution_count": 32,
   "metadata": {},
   "outputs": [
    {
     "name": "stdout",
     "output_type": "stream",
     "text": [
      "download: s3://sagemaker-us-east-1-484897808608/sagemaker/autopilot-dm/output/automl-banking-29-01-15-35/sagemaker-automl-candidates/automl-banking-29-01-15-35-pr-1-d1b83ff76fbd4a2493f1f29d7ecb8e6/notebooks/SageMakerAutopilotCandidateDefinitionNotebook.ipynb to notebooks/SageMakerAutopilotCandidateDefinitionNotebook.ipynb\n"
     ]
    }
   ],
   "source": [
    "# Candidate Generation Notebook\n",
    "# Sagemaker AutoPilot also auto-generates a Candidate Definitions notebook. This notebook can be used to interactively step through the various steps taken by the Sagemaker Autopilot to arrive at the best candidate. This notebook can also be used to override various runtime parameters like parallelism, hardware used, algorithms explored, feature extraction scripts and more.\n",
    "\n",
    "# The notebook can be downloaded from the following Amazon S3 location:\n",
    "generation_notebook = sm.describe_auto_ml_job(AutoMLJobName=auto_ml_job_name)[\"AutoMLJobArtifacts\"][\n",
    "    \"CandidateDefinitionNotebookLocation\"\n",
    "]\n",
    "\n",
    "!aws s3 cp $generation_notebook ./notebooks/"
   ]
  },
  {
   "cell_type": "code",
   "execution_count": 33,
   "metadata": {},
   "outputs": [
    {
     "name": "stdout",
     "output_type": "stream",
     "text": [
      "download: s3://sagemaker-us-east-1-484897808608/sagemaker/autopilot-dm/output/automl-banking-29-01-15-35/sagemaker-automl-candidates/automl-banking-29-01-15-35-pr-1-d1b83ff76fbd4a2493f1f29d7ecb8e6/notebooks/SageMakerAutopilotDataExplorationNotebook.ipynb to notebooks/SageMakerAutopilotDataExplorationNotebook.ipynb\n"
     ]
    }
   ],
   "source": [
    "# Data Exploration Notebook\n",
    "# Sagemaker Autopilot also auto-generates a Data Exploration notebook, which can be downloaded from the following Amazon S3 location:\n",
    "data_notebook = sm.describe_auto_ml_job(AutoMLJobName=auto_ml_job_name)[\"AutoMLJobArtifacts\"][\n",
    "    \"DataExplorationNotebookLocation\"\n",
    "]\n",
    "!aws s3 cp $data_notebook ./notebooks/"
   ]
  },
  {
   "cell_type": "code",
   "execution_count": 35,
   "metadata": {},
   "outputs": [
    {
     "name": "stdout",
     "output_type": "stream",
     "text": [
      "Stored 'best_candidate' (dict)\n"
     ]
    }
   ],
   "source": [
    "%store best_candidate"
   ]
  }
 ],
 "metadata": {
  "instance_type": "ml.t3.medium",
  "kernelspec": {
   "display_name": "Python 3 (Data Science)",
   "language": "python",
   "name": "python3__SAGEMAKER_INTERNAL__arn:aws:sagemaker:us-east-1:081325390199:image/datascience-1.0"
  },
  "language_info": {
   "codemirror_mode": {
    "name": "ipython",
    "version": 3
   },
   "file_extension": ".py",
   "mimetype": "text/x-python",
   "name": "python",
   "nbconvert_exporter": "python",
   "pygments_lexer": "ipython3",
   "version": "3.7.10"
  }
 },
 "nbformat": 4,
 "nbformat_minor": 4
}
